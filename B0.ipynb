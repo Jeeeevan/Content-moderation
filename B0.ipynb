{
 "cells": [
  {
   "cell_type": "code",
   "execution_count": 1,
   "metadata": {},
   "outputs": [],
   "source": [
    "import os\n",
    "import torch\n",
    "import torch.nn as nn\n",
    "import torch.optim as optim\n",
    "from torch.optim import lr_scheduler\n",
    "from torchvision import datasets, transforms\n",
    "from torch.utils.data import DataLoader, random_split, Subset\n",
    "from efficientnet_pytorch import EfficientNet"
   ]
  },
  {
   "cell_type": "code",
   "execution_count": 2,
   "metadata": {},
   "outputs": [],
   "source": [
    "num_classes = 5  # neutral, gore, violence, nudity, substances\n",
    "batch_size = 8\n",
    "num_epochs = 20\n",
    "learning_rate = 0.001\n",
    "data_dir = r\"E:\\Projects\\Content-moderation\\Dataset\"\n",
    "validation_split = 0.1  \n",
    "test_split = 0.1 "
   ]
  },
  {
   "cell_type": "code",
   "execution_count": 3,
   "metadata": {},
   "outputs": [],
   "source": [
    "data_transforms = {\n",
    "    'train': transforms.Compose([\n",
    "        transforms.RandomResizedCrop(224),\n",
    "        transforms.RandomHorizontalFlip(),\n",
    "        transforms.ToTensor(),\n",
    "        transforms.Normalize([0.485, 0.456, 0.406], [0.229, 0.224, 0.225])\n",
    "    ]),\n",
    "    'val': transforms.Compose([\n",
    "        transforms.Resize(256),\n",
    "        transforms.CenterCrop(224),\n",
    "        transforms.ToTensor(),\n",
    "        transforms.Normalize([0.485, 0.456, 0.406], [0.229, 0.224, 0.225])\n",
    "    ]),\n",
    "}"
   ]
  },
  {
   "cell_type": "code",
   "execution_count": 4,
   "metadata": {},
   "outputs": [],
   "source": [
    "full_dataset = datasets.ImageFolder(root=os.path.join(data_dir, 'Train'), transform=data_transforms['train'])"
   ]
  },
  {
   "cell_type": "code",
   "execution_count": 5,
   "metadata": {},
   "outputs": [
    {
     "name": "stdout",
     "output_type": "stream",
     "text": [
      "27731\n"
     ]
    }
   ],
   "source": [
    "num_total = len(full_dataset)\n",
    "num_val = int(num_total * validation_split)\n",
    "num_test = int(num_total * test_split)\n",
    "num_train = num_total - num_val - num_test\n",
    "print(num_total)"
   ]
  },
  {
   "cell_type": "code",
   "execution_count": 6,
   "metadata": {},
   "outputs": [],
   "source": [
    "train_dataset, val_dataset, test_dataset = random_split(full_dataset, [num_train, num_val, num_test])\n",
    "train_loader = DataLoader(train_dataset, batch_size=batch_size, shuffle=True, num_workers=4)\n",
    "val_loader = DataLoader(val_dataset, batch_size=batch_size, shuffle=True, num_workers=4)\n",
    "test_loader = DataLoader(test_dataset, batch_size=batch_size, shuffle=True, num_workers=4)"
   ]
  },
  {
   "cell_type": "code",
   "execution_count": 7,
   "metadata": {},
   "outputs": [
    {
     "name": "stdout",
     "output_type": "stream",
     "text": [
      "Loaded pretrained weights for efficientnet-b0\n"
     ]
    }
   ],
   "source": [
    "model = EfficientNet.from_pretrained('efficientnet-b0')\n",
    "num_ftrs = model._fc.in_features\n",
    "model._fc = nn.Linear(num_ftrs, num_classes)"
   ]
  },
  {
   "cell_type": "code",
   "execution_count": 8,
   "metadata": {},
   "outputs": [],
   "source": [
    "device = torch.device(\"cuda:0\" if torch.cuda.is_available() else \"cpu\")\n",
    "model = model.to(device)\n",
    "criterion = nn.CrossEntropyLoss()\n",
    "optimizer = optim.Adam(model.parameters(), lr=learning_rate)\n",
    "exp_lr_scheduler = lr_scheduler.StepLR(optimizer, step_size=7, gamma=0.1)\n"
   ]
  },
  {
   "cell_type": "code",
   "execution_count": 9,
   "metadata": {},
   "outputs": [],
   "source": [
    "def train_model(model, criterion, optimizer, scheduler, num_epochs=25):\n",
    "    for epoch in range(num_epochs):\n",
    "        print(f'Epoch {epoch}/{num_epochs - 1}')\n",
    "        print('-' * 10)\n",
    "\n",
    "        # Each epoch has a training and validation phase\n",
    "        for phase in ['train', 'val']:\n",
    "            if phase == 'train':\n",
    "                model.train()  # Set model to training mode\n",
    "                dataloader = train_loader\n",
    "            else:\n",
    "                model.eval()  # Set model to evaluate mode\n",
    "                dataloader = val_loader\n",
    "\n",
    "            running_loss = 0.0\n",
    "            running_corrects = 0\n",
    "\n",
    "            # Iterate over data\n",
    "            for inputs, labels in dataloader:\n",
    "                inputs = inputs.to(device)\n",
    "                labels = labels.to(device)\n",
    "\n",
    "                # Zero the parameter gradients\n",
    "                optimizer.zero_grad()\n",
    "\n",
    "                # Forward\n",
    "                with torch.set_grad_enabled(phase == 'train'):\n",
    "                    outputs = model(inputs)\n",
    "                    _, preds = torch.max(outputs, 1)\n",
    "                    loss = criterion(outputs, labels)\n",
    "\n",
    "                    # Backward + optimize only if in training phase\n",
    "                    if phase == 'train':\n",
    "                        loss.backward()\n",
    "                        optimizer.step()\n",
    "\n",
    "                # Statistics\n",
    "                running_loss += loss.item() * inputs.size(0)\n",
    "                running_corrects += torch.sum(preds == labels.data)\n",
    "\n",
    "            if phase == 'train':\n",
    "                scheduler.step()\n",
    "\n",
    "            epoch_loss = running_loss / len(dataloader.dataset)\n",
    "            epoch_acc = running_corrects.double() / len(dataloader.dataset)\n",
    "\n",
    "            print(f'{phase} Loss: {epoch_loss:.4f} Acc: {epoch_acc:.4f}')\n",
    "\n",
    "        print()\n",
    "\n",
    "    return model"
   ]
  },
  {
   "cell_type": "code",
   "execution_count": 10,
   "metadata": {},
   "outputs": [
    {
     "name": "stdout",
     "output_type": "stream",
     "text": [
      "Epoch 0/19\n",
      "----------\n",
      "train Loss: 0.5863 Acc: 0.7941\n",
      "val Loss: 0.4902 Acc: 0.8561\n",
      "\n",
      "Epoch 1/19\n",
      "----------\n",
      "train Loss: 0.4174 Acc: 0.8563\n",
      "val Loss: 0.3579 Acc: 0.8940\n",
      "\n",
      "Epoch 2/19\n",
      "----------\n",
      "train Loss: 0.3644 Acc: 0.8750\n",
      "val Loss: 0.2601 Acc: 0.9196\n",
      "\n",
      "Epoch 3/19\n",
      "----------\n",
      "train Loss: 0.3119 Acc: 0.8928\n",
      "val Loss: 0.4494 Acc: 0.8630\n",
      "\n",
      "Epoch 4/19\n",
      "----------\n",
      "train Loss: 0.2990 Acc: 0.8969\n",
      "val Loss: 0.3332 Acc: 0.8943\n",
      "\n",
      "Epoch 5/19\n",
      "----------\n",
      "train Loss: 0.2767 Acc: 0.9042\n",
      "val Loss: 0.2466 Acc: 0.9228\n",
      "\n",
      "Epoch 6/19\n",
      "----------\n",
      "train Loss: 0.2606 Acc: 0.9110\n",
      "val Loss: 0.1774 Acc: 0.9470\n",
      "\n",
      "Epoch 7/19\n",
      "----------\n",
      "train Loss: 0.1623 Acc: 0.9444\n",
      "val Loss: 0.1125 Acc: 0.9611\n",
      "\n",
      "Epoch 8/19\n",
      "----------\n",
      "train Loss: 0.1303 Acc: 0.9541\n",
      "val Loss: 0.1137 Acc: 0.9600\n",
      "\n",
      "Epoch 9/19\n",
      "----------\n",
      "train Loss: 0.1237 Acc: 0.9573\n",
      "val Loss: 0.0881 Acc: 0.9708\n",
      "\n",
      "Epoch 10/19\n",
      "----------\n",
      "train Loss: 0.1117 Acc: 0.9606\n",
      "val Loss: 0.0847 Acc: 0.9722\n",
      "\n",
      "Epoch 11/19\n",
      "----------\n",
      "train Loss: 0.1113 Acc: 0.9624\n",
      "val Loss: 0.0807 Acc: 0.9758\n",
      "\n",
      "Epoch 12/19\n",
      "----------\n",
      "train Loss: 0.1029 Acc: 0.9653\n",
      "val Loss: 0.0928 Acc: 0.9715\n",
      "\n",
      "Epoch 13/19\n",
      "----------\n",
      "train Loss: 0.1020 Acc: 0.9646\n",
      "val Loss: 0.0878 Acc: 0.9679\n",
      "\n",
      "Epoch 14/19\n",
      "----------\n",
      "train Loss: 0.0974 Acc: 0.9661\n",
      "val Loss: 0.0864 Acc: 0.9712\n",
      "\n",
      "Epoch 15/19\n",
      "----------\n",
      "train Loss: 0.0909 Acc: 0.9684\n",
      "val Loss: 0.0848 Acc: 0.9675\n",
      "\n",
      "Epoch 16/19\n",
      "----------\n",
      "train Loss: 0.0921 Acc: 0.9683\n",
      "val Loss: 0.0869 Acc: 0.9719\n",
      "\n",
      "Epoch 17/19\n",
      "----------\n",
      "train Loss: 0.0922 Acc: 0.9673\n",
      "val Loss: 0.0808 Acc: 0.9712\n",
      "\n",
      "Epoch 18/19\n",
      "----------\n",
      "train Loss: 0.0889 Acc: 0.9700\n",
      "val Loss: 0.0741 Acc: 0.9744\n",
      "\n",
      "Epoch 19/19\n",
      "----------\n",
      "train Loss: 0.0938 Acc: 0.9677\n",
      "val Loss: 0.0738 Acc: 0.9737\n",
      "\n"
     ]
    }
   ],
   "source": [
    "model = train_model(model, criterion, optimizer, exp_lr_scheduler, num_epochs=num_epochs)\n"
   ]
  },
  {
   "cell_type": "code",
   "execution_count": 11,
   "metadata": {},
   "outputs": [
    {
     "name": "stdout",
     "output_type": "stream",
     "text": [
      "Validation Accuracy: 0.9737\n",
      "Test Accuracy: 0.9722\n"
     ]
    }
   ],
   "source": [
    "torch.save(model.state_dict(), 'efficientnet_finetuned.pth')\n",
    "\n",
    "# Evaluation on validation set\n",
    "model.eval()\n",
    "running_corrects = 0\n",
    "for inputs, labels in val_loader:\n",
    "    inputs = inputs.to(device)\n",
    "    labels = labels.to(device)\n",
    "    with torch.no_grad():\n",
    "        outputs = model(inputs)\n",
    "        _, preds = torch.max(outputs, 1)\n",
    "        running_corrects += torch.sum(preds == labels.data)\n",
    "\n",
    "val_acc = running_corrects.double() / len(val_loader.dataset)\n",
    "print(f'Validation Accuracy: {val_acc:.4f}')\n",
    "\n",
    "# Evaluation on test set\n",
    "running_corrects = 0\n",
    "for inputs, labels in test_loader:\n",
    "    inputs = inputs.to(device)\n",
    "    labels = labels.to(device)\n",
    "    with torch.no_grad():\n",
    "        outputs = model(inputs)\n",
    "        _, preds = torch.max(outputs, 1)\n",
    "        running_corrects += torch.sum(preds == labels.data)\n",
    "\n",
    "test_acc = running_corrects.double() / len(test_loader.dataset)\n",
    "print(f'Test Accuracy: {test_acc:.4f}')"
   ]
  }
 ],
 "metadata": {
  "kernelspec": {
   "display_name": "Python 3",
   "language": "python",
   "name": "python3"
  },
  "language_info": {
   "codemirror_mode": {
    "name": "ipython",
    "version": 3
   },
   "file_extension": ".py",
   "mimetype": "text/x-python",
   "name": "python",
   "nbconvert_exporter": "python",
   "pygments_lexer": "ipython3",
   "version": "3.12.3"
  }
 },
 "nbformat": 4,
 "nbformat_minor": 2
}
